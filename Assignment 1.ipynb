{
 "cells": [
  {
   "cell_type": "code",
   "execution_count": 3,
   "id": "cdd0c6d1",
   "metadata": {},
   "outputs": [
    {
     "name": "stdout",
     "output_type": "stream",
     "text": [
      "Twinkle twinkle little star\n",
      "\tHow I wonder what you are!\n",
      "\t\tUp above the world so high\n",
      "\t\tLike a diamond in the sky\n",
      "Twinkle twinkle little star\n",
      "\tHow I woner what you are?\n"
     ]
    }
   ],
   "source": [
    "# 1. Print the string in specific format\n",
    "print (\"Twinkle twinkle little star\\n\\tHow I wonder what you are!\\n\\t\\tUp above the world so high\\n\\t\\tLike a diamond in the sky\\nTwinkle twinkle little star\\n\\tHow I woner what you are?\")"
   ]
  },
  {
   "cell_type": "code",
   "execution_count": 4,
   "id": "dd66f3d2",
   "metadata": {},
   "outputs": [
    {
     "name": "stdout",
     "output_type": "stream",
     "text": [
      "The version of python you are using is 3.8.8 (default, Apr 13 2021, 15:08:07) [MSC v.1916 32 bit (Intel)]\n"
     ]
    }
   ],
   "source": [
    "# 2. Print version of Python\n",
    "import sys\n",
    "print (\"The version of python you are using is \" + str(sys.version))"
   ]
  },
  {
   "cell_type": "code",
   "execution_count": 5,
   "id": "16b380d7",
   "metadata": {},
   "outputs": [
    {
     "name": "stdout",
     "output_type": "stream",
     "text": [
      "Today the date is 03-01-22and the time now is 20:22:52\n"
     ]
    }
   ],
   "source": [
    "# 3. Program to print current date & time\n",
    "import datetime\n",
    "timenow = datetime.datetime.now()\n",
    "print (\"Today the date is \" + timenow.strftime(\"%d-%m-%y\") + \"and the time now is \" + timenow.strftime(\"%H:%M:%S\"))"
   ]
  },
  {
   "cell_type": "code",
   "execution_count": 6,
   "id": "3e3b7a8c",
   "metadata": {},
   "outputs": [
    {
     "name": "stdout",
     "output_type": "stream",
     "text": [
      "Enter the radius of circle to calculate the area: 50\n",
      "The area of circle according to given radius is 157.07963267948966\n"
     ]
    }
   ],
   "source": [
    "# 4. Program to get value of radius of a circle from user and compute the area\n",
    "radius = int(input(\"Enter the radius of circle to calculate the area: \"));\n",
    "import math;\n",
    "print (\"The area of circle according to given radius is \" + str(math.pi*radius));"
   ]
  },
  {
   "cell_type": "code",
   "execution_count": 1,
   "id": "5cfa6089",
   "metadata": {},
   "outputs": [
    {
     "name": "stdout",
     "output_type": "stream",
     "text": [
      "Enter your first name: Abdul\n",
      "Enter your last name: Basit\n",
      "Basit Abdul\n"
     ]
    }
   ],
   "source": [
    "#5. Program to get first & last name and print in reverse order\n",
    "fName = input(\"Enter your first name: \");\n",
    "lName = input(\"Enter your last name: \");\n",
    "print (lName + \" \" + fName);"
   ]
  },
  {
   "cell_type": "code",
   "execution_count": 2,
   "id": "f2090df7",
   "metadata": {},
   "outputs": [
    {
     "name": "stdout",
     "output_type": "stream",
     "text": [
      "Enter first number: 5\n",
      "Enter second number: 5\n",
      "10\n"
     ]
    }
   ],
   "source": [
    "#6. Program to get 2 numbers from user and print their addition\n",
    "num1 = int(input(\"Enter first number: \"));\n",
    "num2 = int(input(\"Enter second number: \"));\n",
    "print (num1 + num2);"
   ]
  },
  {
   "cell_type": "code",
   "execution_count": null,
   "id": "6cf3809d",
   "metadata": {},
   "outputs": [],
   "source": []
  }
 ],
 "metadata": {
  "kernelspec": {
   "display_name": "Python 3",
   "language": "python",
   "name": "python3"
  },
  "language_info": {
   "codemirror_mode": {
    "name": "ipython",
    "version": 3
   },
   "file_extension": ".py",
   "mimetype": "text/x-python",
   "name": "python",
   "nbconvert_exporter": "python",
   "pygments_lexer": "ipython3",
   "version": "3.8.8"
  }
 },
 "nbformat": 4,
 "nbformat_minor": 5
}
